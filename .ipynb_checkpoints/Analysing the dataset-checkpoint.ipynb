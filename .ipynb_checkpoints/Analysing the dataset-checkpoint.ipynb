{
 "cells": [
  {
   "cell_type": "markdown",
   "metadata": {},
   "source": [
    "# Analysis on customers who purchased from Souq ecommerce"
   ]
  },
  {
   "cell_type": "markdown",
   "metadata": {},
   "source": [
    "## Problem Statment"
   ]
  },
  {
   "cell_type": "markdown",
   "metadata": {},
   "source": [
    "Souq.com one of the famous ecomerace in the midle east as its owned by amazon the world famous ecommerce. in souq there is alot of sellers offer their goods on the site hence there are many temptations for the buyer in terms of shipping, price or product rating. so this analysis will provide the seller an understanding of the customer needs"
   ]
  },
  {
   "cell_type": "markdown",
   "metadata": {},
   "source": [
    "## Executive Summary\n",
    "\n"
   ]
  },
  {
   "cell_type": "markdown",
   "metadata": {},
   "source": [
    "To analysis this problem we gathered data fome the Daily deal from souq.com  on some category to analysis how the coustomer react to offers and discounts، and which products attract most customer by thier gender. "
   ]
  },
  {
   "cell_type": "markdown",
   "metadata": {},
   "source": [
    "### Contents:\n",
    "- [Datasets Description](#Datasets-Description)\n",
    "- [Data Import & Cleaning](#Data-Import-and-Cleaning)\n",
    "- [Exploratory and Visualize the Data](#Exploratory-Data-Analysis)\n"
   ]
  },
  {
   "cell_type": "code",
   "execution_count": 1,
   "metadata": {},
   "outputs": [],
   "source": [
    "import pandas as pd\n",
    "import numpy as np\n",
    "import matplotlib.pyplot as plt\n",
    "import seaborn as sns\n",
    "%matplotlib inline"
   ]
  },
  {
   "cell_type": "markdown",
   "metadata": {},
   "source": [
    "## Datasets Description"
   ]
  },
  {
   "cell_type": "markdown",
   "metadata": {},
   "source": [
    "There are seven datasets all of them shows the products and it's price along with customer rating for the product, each data sets contain one category of product which we will join them togather and od our analysis on it."
   ]
  },
  {
   "cell_type": "markdown",
   "metadata": {},
   "source": [
    "## Data Import and Cleaning"
   ]
  },
  {
   "cell_type": "code",
   "execution_count": 2,
   "metadata": {},
   "outputs": [],
   "source": [
    "#reading the datasets"
   ]
  },
  {
   "cell_type": "code",
   "execution_count": 3,
   "metadata": {},
   "outputs": [],
   "source": [
    "Athletic_Shoes = pd.read_csv('./datasets/Athletic_Shoes.csv')\n",
    "Casual_Shoes = pd.read_csv('./datasets/Casual_Shoes.csv')\n",
    "eyewear = pd.read_csv('./datasets/eyewear.csv')\n",
    "Perfumes_and_Fragrances = pd.read_csv('./datasets/Perfumes_and_Fragrances.csv')\n",
    "Sportswear = pd.read_csv('./datasets/Sportswear.csv')\n",
    "Wallets = pd.read_csv('./datasets/Wallets.csv')\n",
    "watches = pd.read_csv('./datasets/watches.csv')"
   ]
  },
  {
   "cell_type": "code",
   "execution_count": 4,
   "metadata": {},
   "outputs": [],
   "source": [
    "#shape of all data sets"
   ]
  },
  {
   "cell_type": "code",
   "execution_count": 5,
   "metadata": {},
   "outputs": [
    {
     "data": {
      "text/plain": [
       "((95, 8), (47, 8), (154, 8), (63, 8), (33, 8), (37, 8), (180, 8))"
      ]
     },
     "execution_count": 5,
     "metadata": {},
     "output_type": "execute_result"
    }
   ],
   "source": [
    "(Athletic_Shoes.shape, Casual_Shoes.shape,  eyewear.shape, Perfumes_and_Fragrances.shape, Sportswear.shape,\n",
    "    Wallets.shape, watches.shape)"
   ]
  },
  {
   "cell_type": "markdown",
   "metadata": {},
   "source": [
    "####  Display data"
   ]
  },
  {
   "cell_type": "code",
   "execution_count": 6,
   "metadata": {},
   "outputs": [
    {
     "data": {
      "text/html": [
       "<div>\n",
       "<style scoped>\n",
       "    .dataframe tbody tr th:only-of-type {\n",
       "        vertical-align: middle;\n",
       "    }\n",
       "\n",
       "    .dataframe tbody tr th {\n",
       "        vertical-align: top;\n",
       "    }\n",
       "\n",
       "    .dataframe thead th {\n",
       "        text-align: right;\n",
       "    }\n",
       "</style>\n",
       "<table border=\"1\" class=\"dataframe\">\n",
       "  <thead>\n",
       "    <tr style=\"text-align: right;\">\n",
       "      <th></th>\n",
       "      <th>item_category</th>\n",
       "      <th>item_name</th>\n",
       "      <th>item_after_discount</th>\n",
       "      <th>item_price</th>\n",
       "      <th>percentage_solds</th>\n",
       "      <th>item_rating</th>\n",
       "      <th>item_shipping</th>\n",
       "      <th>buyer_gender</th>\n",
       "    </tr>\n",
       "  </thead>\n",
       "  <tbody>\n",
       "    <tr>\n",
       "      <td>0</td>\n",
       "      <td>Athletic Shoes</td>\n",
       "      <td>Nike SB Check Solar Cnvs Skateboarding Shoes f...</td>\n",
       "      <td>299.00SAR</td>\n",
       "      <td>211.48SAR</td>\n",
       "      <td>94.0</td>\n",
       "      <td>100.0</td>\n",
       "      <td>FREE Shipping</td>\n",
       "      <td>men</td>\n",
       "    </tr>\n",
       "    <tr>\n",
       "      <td>1</td>\n",
       "      <td>Athletic Shoes</td>\n",
       "      <td>Nike Md Runner 2 Two-Tone Textile-Mesh Suede-A...</td>\n",
       "      <td>349.00SAR</td>\n",
       "      <td>289.99SAR</td>\n",
       "      <td>80.0</td>\n",
       "      <td>88.0</td>\n",
       "      <td>FREE Shipping</td>\n",
       "      <td>men</td>\n",
       "    </tr>\n",
       "  </tbody>\n",
       "</table>\n",
       "</div>"
      ],
      "text/plain": [
       "    item_category                                          item_name  \\\n",
       "0  Athletic Shoes  Nike SB Check Solar Cnvs Skateboarding Shoes f...   \n",
       "1  Athletic Shoes  Nike Md Runner 2 Two-Tone Textile-Mesh Suede-A...   \n",
       "\n",
       "  item_after_discount item_price  percentage_solds  item_rating  \\\n",
       "0           299.00SAR  211.48SAR              94.0        100.0   \n",
       "1           349.00SAR  289.99SAR              80.0         88.0   \n",
       "\n",
       "   item_shipping buyer_gender  \n",
       "0  FREE Shipping          men  \n",
       "1  FREE Shipping          men  "
      ]
     },
     "execution_count": 6,
     "metadata": {},
     "output_type": "execute_result"
    }
   ],
   "source": [
    "Athletic_Shoes.head(2)"
   ]
  },
  {
   "cell_type": "code",
   "execution_count": 7,
   "metadata": {},
   "outputs": [
    {
     "data": {
      "text/html": [
       "<div>\n",
       "<style scoped>\n",
       "    .dataframe tbody tr th:only-of-type {\n",
       "        vertical-align: middle;\n",
       "    }\n",
       "\n",
       "    .dataframe tbody tr th {\n",
       "        vertical-align: top;\n",
       "    }\n",
       "\n",
       "    .dataframe thead th {\n",
       "        text-align: right;\n",
       "    }\n",
       "</style>\n",
       "<table border=\"1\" class=\"dataframe\">\n",
       "  <thead>\n",
       "    <tr style=\"text-align: right;\">\n",
       "      <th></th>\n",
       "      <th>item_category</th>\n",
       "      <th>item_name</th>\n",
       "      <th>item_after_discount</th>\n",
       "      <th>item_price</th>\n",
       "      <th>percentage_solds</th>\n",
       "      <th>item_rating</th>\n",
       "      <th>item_shipping</th>\n",
       "      <th>buyer_gender</th>\n",
       "    </tr>\n",
       "  </thead>\n",
       "  <tbody>\n",
       "    <tr>\n",
       "      <td>0</td>\n",
       "      <td>Casual &amp; Dress Shoes</td>\n",
       "      <td>Lacoste Casual Shoe For Men Size 45 EU - White</td>\n",
       "      <td>519.00SAR</td>\n",
       "      <td>295.98SAR</td>\n",
       "      <td>14.0</td>\n",
       "      <td>NaN</td>\n",
       "      <td>FREE Shipping</td>\n",
       "      <td>men</td>\n",
       "    </tr>\n",
       "    <tr>\n",
       "      <td>1</td>\n",
       "      <td>Casual &amp; Dress Shoes</td>\n",
       "      <td>Lacoste Fairlead Fashion Sneakers Shoes For Me...</td>\n",
       "      <td>469.00SAR</td>\n",
       "      <td>268.49SAR</td>\n",
       "      <td>50.0</td>\n",
       "      <td>NaN</td>\n",
       "      <td>FREE Shipping</td>\n",
       "      <td>men</td>\n",
       "    </tr>\n",
       "  </tbody>\n",
       "</table>\n",
       "</div>"
      ],
      "text/plain": [
       "          item_category                                          item_name  \\\n",
       "0  Casual & Dress Shoes     Lacoste Casual Shoe For Men Size 45 EU - White   \n",
       "1  Casual & Dress Shoes  Lacoste Fairlead Fashion Sneakers Shoes For Me...   \n",
       "\n",
       "  item_after_discount item_price  percentage_solds  item_rating  \\\n",
       "0           519.00SAR  295.98SAR              14.0          NaN   \n",
       "1           469.00SAR  268.49SAR              50.0          NaN   \n",
       "\n",
       "   item_shipping buyer_gender  \n",
       "0  FREE Shipping          men  \n",
       "1  FREE Shipping          men  "
      ]
     },
     "execution_count": 7,
     "metadata": {},
     "output_type": "execute_result"
    }
   ],
   "source": [
    "Casual_Shoes.head(2)"
   ]
  },
  {
   "cell_type": "code",
   "execution_count": 8,
   "metadata": {},
   "outputs": [
    {
     "data": {
      "text/html": [
       "<div>\n",
       "<style scoped>\n",
       "    .dataframe tbody tr th:only-of-type {\n",
       "        vertical-align: middle;\n",
       "    }\n",
       "\n",
       "    .dataframe tbody tr th {\n",
       "        vertical-align: top;\n",
       "    }\n",
       "\n",
       "    .dataframe thead th {\n",
       "        text-align: right;\n",
       "    }\n",
       "</style>\n",
       "<table border=\"1\" class=\"dataframe\">\n",
       "  <thead>\n",
       "    <tr style=\"text-align: right;\">\n",
       "      <th></th>\n",
       "      <th>item_category</th>\n",
       "      <th>item_name</th>\n",
       "      <th>item_after_discount</th>\n",
       "      <th>item_price</th>\n",
       "      <th>percentage_solds</th>\n",
       "      <th>item_rating</th>\n",
       "      <th>item_shipping</th>\n",
       "      <th>buyer_gender</th>\n",
       "    </tr>\n",
       "  </thead>\n",
       "  <tbody>\n",
       "    <tr>\n",
       "      <td>0</td>\n",
       "      <td>Eyewear</td>\n",
       "      <td>Carrera Sunglasses for Unisex , Black Aviator</td>\n",
       "      <td>650.00SAR</td>\n",
       "      <td>346.98SAR</td>\n",
       "      <td>52.0</td>\n",
       "      <td>NaN</td>\n",
       "      <td>FREE Shipping</td>\n",
       "      <td>Unisex</td>\n",
       "    </tr>\n",
       "    <tr>\n",
       "      <td>1</td>\n",
       "      <td>Eyewear</td>\n",
       "      <td>Carrera Sunglasses For Unisex - Green Lens, 14...</td>\n",
       "      <td>750.00SAR</td>\n",
       "      <td>351.98SAR</td>\n",
       "      <td>25.0</td>\n",
       "      <td>80.0</td>\n",
       "      <td>FREE Shipping</td>\n",
       "      <td>Unisex</td>\n",
       "    </tr>\n",
       "  </tbody>\n",
       "</table>\n",
       "</div>"
      ],
      "text/plain": [
       "  item_category                                          item_name  \\\n",
       "0       Eyewear      Carrera Sunglasses for Unisex , Black Aviator   \n",
       "1       Eyewear  Carrera Sunglasses For Unisex - Green Lens, 14...   \n",
       "\n",
       "  item_after_discount item_price  percentage_solds  item_rating  \\\n",
       "0           650.00SAR  346.98SAR              52.0          NaN   \n",
       "1           750.00SAR  351.98SAR              25.0         80.0   \n",
       "\n",
       "   item_shipping buyer_gender  \n",
       "0  FREE Shipping       Unisex  \n",
       "1  FREE Shipping       Unisex  "
      ]
     },
     "execution_count": 8,
     "metadata": {},
     "output_type": "execute_result"
    }
   ],
   "source": [
    "eyewear.head(2)"
   ]
  },
  {
   "cell_type": "code",
   "execution_count": 9,
   "metadata": {},
   "outputs": [
    {
     "data": {
      "text/html": [
       "<div>\n",
       "<style scoped>\n",
       "    .dataframe tbody tr th:only-of-type {\n",
       "        vertical-align: middle;\n",
       "    }\n",
       "\n",
       "    .dataframe tbody tr th {\n",
       "        vertical-align: top;\n",
       "    }\n",
       "\n",
       "    .dataframe thead th {\n",
       "        text-align: right;\n",
       "    }\n",
       "</style>\n",
       "<table border=\"1\" class=\"dataframe\">\n",
       "  <thead>\n",
       "    <tr style=\"text-align: right;\">\n",
       "      <th></th>\n",
       "      <th>item_category</th>\n",
       "      <th>item_name</th>\n",
       "      <th>item_after_discount</th>\n",
       "      <th>item_price</th>\n",
       "      <th>percentage_solds</th>\n",
       "      <th>item_rating</th>\n",
       "      <th>item_shipping</th>\n",
       "      <th>buyer_gender</th>\n",
       "    </tr>\n",
       "  </thead>\n",
       "  <tbody>\n",
       "    <tr>\n",
       "      <td>0</td>\n",
       "      <td>Perfumes &amp; Fragrances</td>\n",
       "      <td>Calvin Klein Euphoria for Women - Eau de Parfu...</td>\n",
       "      <td>357.00SAR</td>\n",
       "      <td>111.21SAR</td>\n",
       "      <td>77</td>\n",
       "      <td>90</td>\n",
       "      <td>Eligible for FREE Shipping</td>\n",
       "      <td>women</td>\n",
       "    </tr>\n",
       "    <tr>\n",
       "      <td>1</td>\n",
       "      <td>Perfumes &amp; Fragrances</td>\n",
       "      <td>Lattafa Pure Musk for Unisex - Eau de Parfum, ...</td>\n",
       "      <td>55.00SAR</td>\n",
       "      <td>32.39SAR</td>\n",
       "      <td>64</td>\n",
       "      <td>86</td>\n",
       "      <td>Eligible for FREE Shipping</td>\n",
       "      <td>Unisex</td>\n",
       "    </tr>\n",
       "  </tbody>\n",
       "</table>\n",
       "</div>"
      ],
      "text/plain": [
       "           item_category                                          item_name  \\\n",
       "0  Perfumes & Fragrances  Calvin Klein Euphoria for Women - Eau de Parfu...   \n",
       "1  Perfumes & Fragrances  Lattafa Pure Musk for Unisex - Eau de Parfum, ...   \n",
       "\n",
       "  item_after_discount item_price  percentage_solds  item_rating  \\\n",
       "0           357.00SAR  111.21SAR                77           90   \n",
       "1            55.00SAR   32.39SAR                64           86   \n",
       "\n",
       "                item_shipping buyer_gender  \n",
       "0  Eligible for FREE Shipping        women  \n",
       "1  Eligible for FREE Shipping       Unisex  "
      ]
     },
     "execution_count": 9,
     "metadata": {},
     "output_type": "execute_result"
    }
   ],
   "source": [
    "Perfumes_and_Fragrances.head(2)"
   ]
  },
  {
   "cell_type": "code",
   "execution_count": 10,
   "metadata": {},
   "outputs": [
    {
     "data": {
      "text/html": [
       "<div>\n",
       "<style scoped>\n",
       "    .dataframe tbody tr th:only-of-type {\n",
       "        vertical-align: middle;\n",
       "    }\n",
       "\n",
       "    .dataframe tbody tr th {\n",
       "        vertical-align: top;\n",
       "    }\n",
       "\n",
       "    .dataframe thead th {\n",
       "        text-align: right;\n",
       "    }\n",
       "</style>\n",
       "<table border=\"1\" class=\"dataframe\">\n",
       "  <thead>\n",
       "    <tr style=\"text-align: right;\">\n",
       "      <th></th>\n",
       "      <th>item_category</th>\n",
       "      <th>item_name</th>\n",
       "      <th>item_after_discount</th>\n",
       "      <th>item_price</th>\n",
       "      <th>percentage_solds</th>\n",
       "      <th>item_rating</th>\n",
       "      <th>item_shipping</th>\n",
       "      <th>buyer_gender</th>\n",
       "    </tr>\n",
       "  </thead>\n",
       "  <tbody>\n",
       "    <tr>\n",
       "      <td>0</td>\n",
       "      <td>Sportswear</td>\n",
       "      <td>Adidas Spain Home Football Jersey For Men - Re...</td>\n",
       "      <td>419.00SAR</td>\n",
       "      <td>175.98SAR</td>\n",
       "      <td>35.0</td>\n",
       "      <td>NaN</td>\n",
       "      <td>Eligible for FREE Shipping</td>\n",
       "      <td>men</td>\n",
       "    </tr>\n",
       "    <tr>\n",
       "      <td>1</td>\n",
       "      <td>Sportswear</td>\n",
       "      <td>Under Armour Training T-Shirt for Men</td>\n",
       "      <td>139.00SAR</td>\n",
       "      <td>79.99SAR</td>\n",
       "      <td>56.0</td>\n",
       "      <td>60.0</td>\n",
       "      <td>Eligible for FREE Shipping</td>\n",
       "      <td>men</td>\n",
       "    </tr>\n",
       "  </tbody>\n",
       "</table>\n",
       "</div>"
      ],
      "text/plain": [
       "  item_category                                          item_name  \\\n",
       "0    Sportswear  Adidas Spain Home Football Jersey For Men - Re...   \n",
       "1    Sportswear              Under Armour Training T-Shirt for Men   \n",
       "\n",
       "  item_after_discount item_price  percentage_solds  item_rating  \\\n",
       "0           419.00SAR  175.98SAR              35.0          NaN   \n",
       "1           139.00SAR   79.99SAR              56.0         60.0   \n",
       "\n",
       "                item_shipping buyer_gender  \n",
       "0  Eligible for FREE Shipping          men  \n",
       "1  Eligible for FREE Shipping          men  "
      ]
     },
     "execution_count": 10,
     "metadata": {},
     "output_type": "execute_result"
    }
   ],
   "source": [
    "Sportswear.head(2)"
   ]
  },
  {
   "cell_type": "code",
   "execution_count": 11,
   "metadata": {},
   "outputs": [
    {
     "data": {
      "text/html": [
       "<div>\n",
       "<style scoped>\n",
       "    .dataframe tbody tr th:only-of-type {\n",
       "        vertical-align: middle;\n",
       "    }\n",
       "\n",
       "    .dataframe tbody tr th {\n",
       "        vertical-align: top;\n",
       "    }\n",
       "\n",
       "    .dataframe thead th {\n",
       "        text-align: right;\n",
       "    }\n",
       "</style>\n",
       "<table border=\"1\" class=\"dataframe\">\n",
       "  <thead>\n",
       "    <tr style=\"text-align: right;\">\n",
       "      <th></th>\n",
       "      <th>item_category</th>\n",
       "      <th>item_name</th>\n",
       "      <th>item_after_discount</th>\n",
       "      <th>item_price</th>\n",
       "      <th>percentage_solds</th>\n",
       "      <th>item_rating</th>\n",
       "      <th>item_shipping</th>\n",
       "      <th>buyer_gender</th>\n",
       "    </tr>\n",
       "  </thead>\n",
       "  <tbody>\n",
       "    <tr>\n",
       "      <td>0</td>\n",
       "      <td>Wallets</td>\n",
       "      <td>Tommy Hilfiger Bifold WAllet For Women,LeAther...</td>\n",
       "      <td>469.00SAR</td>\n",
       "      <td>172.48SAR</td>\n",
       "      <td>5.0</td>\n",
       "      <td>NaN</td>\n",
       "      <td>Eligible for FREE Shipping</td>\n",
       "      <td>women</td>\n",
       "    </tr>\n",
       "    <tr>\n",
       "      <td>1</td>\n",
       "      <td>Wallets</td>\n",
       "      <td>Tommy Hilfiger Bifold Wallet For Women,Leather...</td>\n",
       "      <td>469.00SAR</td>\n",
       "      <td>172.48SAR</td>\n",
       "      <td>3.0</td>\n",
       "      <td>NaN</td>\n",
       "      <td>Eligible for FREE Shipping</td>\n",
       "      <td>women</td>\n",
       "    </tr>\n",
       "  </tbody>\n",
       "</table>\n",
       "</div>"
      ],
      "text/plain": [
       "  item_category                                          item_name  \\\n",
       "0       Wallets  Tommy Hilfiger Bifold WAllet For Women,LeAther...   \n",
       "1       Wallets  Tommy Hilfiger Bifold Wallet For Women,Leather...   \n",
       "\n",
       "  item_after_discount item_price  percentage_solds  item_rating  \\\n",
       "0           469.00SAR  172.48SAR               5.0          NaN   \n",
       "1           469.00SAR  172.48SAR               3.0          NaN   \n",
       "\n",
       "                item_shipping buyer_gender  \n",
       "0  Eligible for FREE Shipping        women  \n",
       "1  Eligible for FREE Shipping        women  "
      ]
     },
     "execution_count": 11,
     "metadata": {},
     "output_type": "execute_result"
    }
   ],
   "source": [
    "Wallets.head(2)"
   ]
  },
  {
   "cell_type": "code",
   "execution_count": 12,
   "metadata": {},
   "outputs": [
    {
     "data": {
      "text/html": [
       "<div>\n",
       "<style scoped>\n",
       "    .dataframe tbody tr th:only-of-type {\n",
       "        vertical-align: middle;\n",
       "    }\n",
       "\n",
       "    .dataframe tbody tr th {\n",
       "        vertical-align: top;\n",
       "    }\n",
       "\n",
       "    .dataframe thead th {\n",
       "        text-align: right;\n",
       "    }\n",
       "</style>\n",
       "<table border=\"1\" class=\"dataframe\">\n",
       "  <thead>\n",
       "    <tr style=\"text-align: right;\">\n",
       "      <th></th>\n",
       "      <th>item_category</th>\n",
       "      <th>item_name</th>\n",
       "      <th>item_after_discount</th>\n",
       "      <th>item_price</th>\n",
       "      <th>percentage_solds</th>\n",
       "      <th>item_rating</th>\n",
       "      <th>item_shipping</th>\n",
       "      <th>buyer_gender</th>\n",
       "    </tr>\n",
       "  </thead>\n",
       "  <tbody>\n",
       "    <tr>\n",
       "      <td>0</td>\n",
       "      <td>Watches</td>\n",
       "      <td>Michael Kors Lexington Women's Silver Dial Sta...</td>\n",
       "      <td>1,698.00SAR</td>\n",
       "      <td>639.00SAR</td>\n",
       "      <td>85.0</td>\n",
       "      <td>92.0</td>\n",
       "      <td>NaN</td>\n",
       "      <td>women</td>\n",
       "    </tr>\n",
       "    <tr>\n",
       "      <td>1</td>\n",
       "      <td>Watches</td>\n",
       "      <td>Lacoste Women's Silver Dial Leather Band Watch...</td>\n",
       "      <td>929.00SAR</td>\n",
       "      <td>426.49SAR</td>\n",
       "      <td>77.0</td>\n",
       "      <td>100.0</td>\n",
       "      <td>FREE Shipping</td>\n",
       "      <td>women</td>\n",
       "    </tr>\n",
       "  </tbody>\n",
       "</table>\n",
       "</div>"
      ],
      "text/plain": [
       "  item_category                                          item_name  \\\n",
       "0       Watches  Michael Kors Lexington Women's Silver Dial Sta...   \n",
       "1       Watches  Lacoste Women's Silver Dial Leather Band Watch...   \n",
       "\n",
       "  item_after_discount item_price  percentage_solds  item_rating  \\\n",
       "0         1,698.00SAR  639.00SAR              85.0         92.0   \n",
       "1           929.00SAR  426.49SAR              77.0        100.0   \n",
       "\n",
       "   item_shipping buyer_gender  \n",
       "0            NaN        women  \n",
       "1  FREE Shipping        women  "
      ]
     },
     "execution_count": 12,
     "metadata": {},
     "output_type": "execute_result"
    }
   ],
   "source": [
    "watches.head(2)"
   ]
  },
  {
   "cell_type": "markdown",
   "metadata": {},
   "source": [
    "#### describetion of the data"
   ]
  },
  {
   "cell_type": "markdown",
   "metadata": {},
   "source": [
    "Each data contain items belongs to one category. Each datasets describe the items belong to the same category with is price and customer rating and percentage of items been sold through the website. "
   ]
  },
  {
   "cell_type": "markdown",
   "metadata": {},
   "source": [
    "####  Merge dataframes"
   ]
  },
  {
   "cell_type": "markdown",
   "metadata": {},
   "source": [
    "Since all the data frame has the same lable and number of columns. we can join them all togather using contact method, than we can preforme any cleaning if needed on them. "
   ]
  },
  {
   "cell_type": "code",
   "execution_count": 13,
   "metadata": {},
   "outputs": [],
   "source": [
    "pdList = [Athletic_Shoes, Casual_Shoes,  eyewear, Perfumes_and_Fragrances, Sportswear,\n",
    "    Wallets, watches]  # List of dataframes\n",
    "df = pd.concat(pdList)"
   ]
  },
  {
   "cell_type": "markdown",
   "metadata": {},
   "source": [
    "#### Investigate missing values"
   ]
  },
  {
   "cell_type": "code",
   "execution_count": 14,
   "metadata": {},
   "outputs": [
    {
     "data": {
      "text/plain": [
       "item_category            0\n",
       "item_name                0\n",
       "item_after_discount     26\n",
       "item_price               0\n",
       "percentage_solds        87\n",
       "item_rating            182\n",
       "item_shipping           42\n",
       "buyer_gender            28\n",
       "dtype: int64"
      ]
     },
     "execution_count": 14,
     "metadata": {},
     "output_type": "execute_result"
    }
   ],
   "source": [
    "df.isnull().sum()"
   ]
  },
  {
   "cell_type": "code",
   "execution_count": 15,
   "metadata": {},
   "outputs": [
    {
     "data": {
      "text/plain": [
       "365"
      ]
     },
     "execution_count": 15,
     "metadata": {},
     "output_type": "execute_result"
    }
   ],
   "source": [
    "df.isnull().sum().sum()"
   ]
  },
  {
   "cell_type": "markdown",
   "metadata": {},
   "source": [
    "#### Display the data types of each feature"
   ]
  },
  {
   "cell_type": "code",
   "execution_count": 16,
   "metadata": {},
   "outputs": [
    {
     "data": {
      "text/plain": [
       "item_category           object\n",
       "item_name               object\n",
       "item_after_discount     object\n",
       "item_price              object\n",
       "percentage_solds       float64\n",
       "item_rating            float64\n",
       "item_shipping           object\n",
       "buyer_gender            object\n",
       "dtype: object"
      ]
     },
     "execution_count": 16,
     "metadata": {},
     "output_type": "execute_result"
    }
   ],
   "source": [
    "df.dtypes"
   ]
  },
  {
   "cell_type": "markdown",
   "metadata": {},
   "source": [
    "#### Fix incorrect data types"
   ]
  },
  {
   "cell_type": "markdown",
   "metadata": {},
   "source": [
    "by the look of the null value in percentage_sold, item_rating, and item_shipping we can assume that thier is no customer rating or any items been solds for the same spacific item."
   ]
  },
  {
   "cell_type": "markdown",
   "metadata": {},
   "source": [
    "The item price and the price before discount has the currency \"SAR\" which will be removed and change the type of the columns to float as the number has decimals."
   ]
  },
  {
   "cell_type": "code",
   "execution_count": 17,
   "metadata": {},
   "outputs": [
    {
     "data": {
      "text/html": [
       "<div>\n",
       "<style scoped>\n",
       "    .dataframe tbody tr th:only-of-type {\n",
       "        vertical-align: middle;\n",
       "    }\n",
       "\n",
       "    .dataframe tbody tr th {\n",
       "        vertical-align: top;\n",
       "    }\n",
       "\n",
       "    .dataframe thead th {\n",
       "        text-align: right;\n",
       "    }\n",
       "</style>\n",
       "<table border=\"1\" class=\"dataframe\">\n",
       "  <thead>\n",
       "    <tr style=\"text-align: right;\">\n",
       "      <th></th>\n",
       "      <th>item_category</th>\n",
       "      <th>item_name</th>\n",
       "      <th>item_after_discount</th>\n",
       "      <th>item_price</th>\n",
       "      <th>percentage_solds</th>\n",
       "      <th>item_rating</th>\n",
       "      <th>item_shipping</th>\n",
       "      <th>buyer_gender</th>\n",
       "    </tr>\n",
       "  </thead>\n",
       "  <tbody>\n",
       "    <tr>\n",
       "      <td>0</td>\n",
       "      <td>Athletic Shoes</td>\n",
       "      <td>Nike SB Check Solar Cnvs Skateboarding Shoes f...</td>\n",
       "      <td>299.00SAR</td>\n",
       "      <td>211.48SAR</td>\n",
       "      <td>94.0</td>\n",
       "      <td>100.0</td>\n",
       "      <td>FREE Shipping</td>\n",
       "      <td>men</td>\n",
       "    </tr>\n",
       "    <tr>\n",
       "      <td>1</td>\n",
       "      <td>Athletic Shoes</td>\n",
       "      <td>Nike Md Runner 2 Two-Tone Textile-Mesh Suede-A...</td>\n",
       "      <td>349.00SAR</td>\n",
       "      <td>289.99SAR</td>\n",
       "      <td>80.0</td>\n",
       "      <td>88.0</td>\n",
       "      <td>FREE Shipping</td>\n",
       "      <td>men</td>\n",
       "    </tr>\n",
       "  </tbody>\n",
       "</table>\n",
       "</div>"
      ],
      "text/plain": [
       "    item_category                                          item_name  \\\n",
       "0  Athletic Shoes  Nike SB Check Solar Cnvs Skateboarding Shoes f...   \n",
       "1  Athletic Shoes  Nike Md Runner 2 Two-Tone Textile-Mesh Suede-A...   \n",
       "\n",
       "  item_after_discount item_price  percentage_solds  item_rating  \\\n",
       "0           299.00SAR  211.48SAR              94.0        100.0   \n",
       "1           349.00SAR  289.99SAR              80.0         88.0   \n",
       "\n",
       "   item_shipping buyer_gender  \n",
       "0  FREE Shipping          men  \n",
       "1  FREE Shipping          men  "
      ]
     },
     "execution_count": 17,
     "metadata": {},
     "output_type": "execute_result"
    }
   ],
   "source": [
    "df.head(2)"
   ]
  },
  {
   "cell_type": "code",
   "execution_count": 18,
   "metadata": {},
   "outputs": [],
   "source": [
    "#remove the , and SAR and change the type to float"
   ]
  },
  {
   "cell_type": "code",
   "execution_count": 19,
   "metadata": {},
   "outputs": [],
   "source": [
    "df['item_price'] = df['item_price'].str.replace('[,SAR]', '').astype(float)"
   ]
  },
  {
   "cell_type": "code",
   "execution_count": 20,
   "metadata": {},
   "outputs": [],
   "source": [
    "df['item_after_discount'] = df['item_after_discount'].str.replace('[,SAR]', '').astype(float)"
   ]
  },
  {
   "cell_type": "code",
   "execution_count": 21,
   "metadata": {},
   "outputs": [
    {
     "data": {
      "text/html": [
       "<div>\n",
       "<style scoped>\n",
       "    .dataframe tbody tr th:only-of-type {\n",
       "        vertical-align: middle;\n",
       "    }\n",
       "\n",
       "    .dataframe tbody tr th {\n",
       "        vertical-align: top;\n",
       "    }\n",
       "\n",
       "    .dataframe thead th {\n",
       "        text-align: right;\n",
       "    }\n",
       "</style>\n",
       "<table border=\"1\" class=\"dataframe\">\n",
       "  <thead>\n",
       "    <tr style=\"text-align: right;\">\n",
       "      <th></th>\n",
       "      <th>item_category</th>\n",
       "      <th>item_name</th>\n",
       "      <th>item_after_discount</th>\n",
       "      <th>item_price</th>\n",
       "      <th>percentage_solds</th>\n",
       "      <th>item_rating</th>\n",
       "      <th>item_shipping</th>\n",
       "      <th>buyer_gender</th>\n",
       "    </tr>\n",
       "  </thead>\n",
       "  <tbody>\n",
       "    <tr>\n",
       "      <td>0</td>\n",
       "      <td>Athletic Shoes</td>\n",
       "      <td>Nike SB Check Solar Cnvs Skateboarding Shoes f...</td>\n",
       "      <td>299.0</td>\n",
       "      <td>211.48</td>\n",
       "      <td>94.0</td>\n",
       "      <td>100.0</td>\n",
       "      <td>FREE Shipping</td>\n",
       "      <td>men</td>\n",
       "    </tr>\n",
       "    <tr>\n",
       "      <td>1</td>\n",
       "      <td>Athletic Shoes</td>\n",
       "      <td>Nike Md Runner 2 Two-Tone Textile-Mesh Suede-A...</td>\n",
       "      <td>349.0</td>\n",
       "      <td>289.99</td>\n",
       "      <td>80.0</td>\n",
       "      <td>88.0</td>\n",
       "      <td>FREE Shipping</td>\n",
       "      <td>men</td>\n",
       "    </tr>\n",
       "  </tbody>\n",
       "</table>\n",
       "</div>"
      ],
      "text/plain": [
       "    item_category                                          item_name  \\\n",
       "0  Athletic Shoes  Nike SB Check Solar Cnvs Skateboarding Shoes f...   \n",
       "1  Athletic Shoes  Nike Md Runner 2 Two-Tone Textile-Mesh Suede-A...   \n",
       "\n",
       "   item_after_discount  item_price  percentage_solds  item_rating  \\\n",
       "0                299.0      211.48              94.0        100.0   \n",
       "1                349.0      289.99              80.0         88.0   \n",
       "\n",
       "   item_shipping buyer_gender  \n",
       "0  FREE Shipping          men  \n",
       "1  FREE Shipping          men  "
      ]
     },
     "execution_count": 21,
     "metadata": {},
     "output_type": "execute_result"
    }
   ],
   "source": [
    "df.head(2)"
   ]
  },
  {
   "cell_type": "code",
   "execution_count": 22,
   "metadata": {},
   "outputs": [
    {
     "data": {
      "text/plain": [
       "item_category           object\n",
       "item_name               object\n",
       "item_after_discount    float64\n",
       "item_price             float64\n",
       "percentage_solds       float64\n",
       "item_rating            float64\n",
       "item_shipping           object\n",
       "buyer_gender            object\n",
       "dtype: object"
      ]
     },
     "execution_count": 22,
     "metadata": {},
     "output_type": "execute_result"
    }
   ],
   "source": [
    "df.dtypes"
   ]
  },
  {
   "cell_type": "markdown",
   "metadata": {},
   "source": [
    "#### Rename columns"
   ]
  },
  {
   "cell_type": "markdown",
   "metadata": {},
   "source": [
    "Renaming the columns to more Understandable names."
   ]
  },
  {
   "cell_type": "code",
   "execution_count": 23,
   "metadata": {},
   "outputs": [],
   "source": [
    "df.columns = ['category', 'product', 'Original_price', 'price', 'perc_of_unit_sold', 'rating', 'shpping_rate', 'gender']"
   ]
  },
  {
   "cell_type": "code",
   "execution_count": 24,
   "metadata": {},
   "outputs": [
    {
     "data": {
      "text/html": [
       "<div>\n",
       "<style scoped>\n",
       "    .dataframe tbody tr th:only-of-type {\n",
       "        vertical-align: middle;\n",
       "    }\n",
       "\n",
       "    .dataframe tbody tr th {\n",
       "        vertical-align: top;\n",
       "    }\n",
       "\n",
       "    .dataframe thead th {\n",
       "        text-align: right;\n",
       "    }\n",
       "</style>\n",
       "<table border=\"1\" class=\"dataframe\">\n",
       "  <thead>\n",
       "    <tr style=\"text-align: right;\">\n",
       "      <th></th>\n",
       "      <th>category</th>\n",
       "      <th>product</th>\n",
       "      <th>Original_price</th>\n",
       "      <th>price</th>\n",
       "      <th>perc_of_unit_sold</th>\n",
       "      <th>rating</th>\n",
       "      <th>shpping_rate</th>\n",
       "      <th>gender</th>\n",
       "    </tr>\n",
       "  </thead>\n",
       "  <tbody>\n",
       "    <tr>\n",
       "      <td>0</td>\n",
       "      <td>Athletic Shoes</td>\n",
       "      <td>Nike SB Check Solar Cnvs Skateboarding Shoes f...</td>\n",
       "      <td>299.0</td>\n",
       "      <td>211.48</td>\n",
       "      <td>94.0</td>\n",
       "      <td>100.0</td>\n",
       "      <td>FREE Shipping</td>\n",
       "      <td>men</td>\n",
       "    </tr>\n",
       "    <tr>\n",
       "      <td>1</td>\n",
       "      <td>Athletic Shoes</td>\n",
       "      <td>Nike Md Runner 2 Two-Tone Textile-Mesh Suede-A...</td>\n",
       "      <td>349.0</td>\n",
       "      <td>289.99</td>\n",
       "      <td>80.0</td>\n",
       "      <td>88.0</td>\n",
       "      <td>FREE Shipping</td>\n",
       "      <td>men</td>\n",
       "    </tr>\n",
       "  </tbody>\n",
       "</table>\n",
       "</div>"
      ],
      "text/plain": [
       "         category                                            product  \\\n",
       "0  Athletic Shoes  Nike SB Check Solar Cnvs Skateboarding Shoes f...   \n",
       "1  Athletic Shoes  Nike Md Runner 2 Two-Tone Textile-Mesh Suede-A...   \n",
       "\n",
       "   Original_price   price  perc_of_unit_sold  rating   shpping_rate gender  \n",
       "0           299.0  211.48               94.0   100.0  FREE Shipping    men  \n",
       "1           349.0  289.99               80.0    88.0  FREE Shipping    men  "
      ]
     },
     "execution_count": 24,
     "metadata": {},
     "output_type": "execute_result"
    }
   ],
   "source": [
    "df.head(2)"
   ]
  },
  {
   "cell_type": "markdown",
   "metadata": {},
   "source": [
    "####  Data dictionary"
   ]
  },
  {
   "cell_type": "markdown",
   "metadata": {},
   "source": [
    "A data dictionary provides a quick overview of features/variables/columns, alongside data types and descriptions"
   ]
  },
  {
   "cell_type": "markdown",
   "metadata": {},
   "source": [
    "|Feature|Type|Description|\n",
    "|---|---|---|\n",
    "|category|object|Name of the category which the products belong to| \n",
    "|product|object|Name and few description of the product|\n",
    "|Original_price|float|The original price of the product|\n",
    "|price|float|product price after discount or offers|\n",
    "|perc_of_unit_sold|object|percentage of the products been sold by the website in the daily deal|\n",
    "|rating|float|customer rate for product |\n",
    "|shpping_rate|object|Shipping options wich define if the product is eligible for free shiping or not|\n",
    "|gender|object|which define the use of the product for which gender|\n",
    "\n",
    "\n"
   ]
  },
  {
   "cell_type": "markdown",
   "metadata": {},
   "source": [
    "#### Saving the final Dataset"
   ]
  },
  {
   "cell_type": "code",
   "execution_count": 25,
   "metadata": {},
   "outputs": [],
   "source": [
    "df.to_csv('./datasets/combined_datasets.csv')"
   ]
  },
  {
   "cell_type": "markdown",
   "metadata": {},
   "source": [
    "## Exploratory and Visualize the Data "
   ]
  },
  {
   "cell_type": "code",
   "execution_count": 26,
   "metadata": {},
   "outputs": [
    {
     "data": {
      "text/html": [
       "<div>\n",
       "<style scoped>\n",
       "    .dataframe tbody tr th:only-of-type {\n",
       "        vertical-align: middle;\n",
       "    }\n",
       "\n",
       "    .dataframe tbody tr th {\n",
       "        vertical-align: top;\n",
       "    }\n",
       "\n",
       "    .dataframe thead th {\n",
       "        text-align: right;\n",
       "    }\n",
       "</style>\n",
       "<table border=\"1\" class=\"dataframe\">\n",
       "  <thead>\n",
       "    <tr style=\"text-align: right;\">\n",
       "      <th></th>\n",
       "      <th>Original_price</th>\n",
       "      <th>price</th>\n",
       "      <th>perc_of_unit_sold</th>\n",
       "      <th>rating</th>\n",
       "    </tr>\n",
       "  </thead>\n",
       "  <tbody>\n",
       "    <tr>\n",
       "      <td>count</td>\n",
       "      <td>583.000000</td>\n",
       "      <td>609.000000</td>\n",
       "      <td>522.000000</td>\n",
       "      <td>427.000000</td>\n",
       "    </tr>\n",
       "    <tr>\n",
       "      <td>mean</td>\n",
       "      <td>864.498113</td>\n",
       "      <td>339.434039</td>\n",
       "      <td>57.678161</td>\n",
       "      <td>87.807963</td>\n",
       "    </tr>\n",
       "    <tr>\n",
       "      <td>std</td>\n",
       "      <td>1803.365527</td>\n",
       "      <td>285.416406</td>\n",
       "      <td>25.434947</td>\n",
       "      <td>11.422350</td>\n",
       "    </tr>\n",
       "    <tr>\n",
       "      <td>min</td>\n",
       "      <td>42.000000</td>\n",
       "      <td>21.400000</td>\n",
       "      <td>2.000000</td>\n",
       "      <td>20.000000</td>\n",
       "    </tr>\n",
       "    <tr>\n",
       "      <td>25%</td>\n",
       "      <td>273.000000</td>\n",
       "      <td>140.980000</td>\n",
       "      <td>36.250000</td>\n",
       "      <td>82.000000</td>\n",
       "    </tr>\n",
       "    <tr>\n",
       "      <td>50%</td>\n",
       "      <td>499.000000</td>\n",
       "      <td>262.490000</td>\n",
       "      <td>60.000000</td>\n",
       "      <td>88.000000</td>\n",
       "    </tr>\n",
       "    <tr>\n",
       "      <td>75%</td>\n",
       "      <td>980.000000</td>\n",
       "      <td>444.990000</td>\n",
       "      <td>79.000000</td>\n",
       "      <td>96.000000</td>\n",
       "    </tr>\n",
       "    <tr>\n",
       "      <td>max</td>\n",
       "      <td>29970.000000</td>\n",
       "      <td>3220.000000</td>\n",
       "      <td>99.000000</td>\n",
       "      <td>100.000000</td>\n",
       "    </tr>\n",
       "  </tbody>\n",
       "</table>\n",
       "</div>"
      ],
      "text/plain": [
       "       Original_price        price  perc_of_unit_sold      rating\n",
       "count      583.000000   609.000000         522.000000  427.000000\n",
       "mean       864.498113   339.434039          57.678161   87.807963\n",
       "std       1803.365527   285.416406          25.434947   11.422350\n",
       "min         42.000000    21.400000           2.000000   20.000000\n",
       "25%        273.000000   140.980000          36.250000   82.000000\n",
       "50%        499.000000   262.490000          60.000000   88.000000\n",
       "75%        980.000000   444.990000          79.000000   96.000000\n",
       "max      29970.000000  3220.000000          99.000000  100.000000"
      ]
     },
     "execution_count": 26,
     "metadata": {},
     "output_type": "execute_result"
    }
   ],
   "source": [
    "df.describe()"
   ]
  },
  {
   "cell_type": "code",
   "execution_count": 27,
   "metadata": {},
   "outputs": [],
   "source": [
    "# exploaring the higher spender from both gender"
   ]
  },
  {
   "cell_type": "code",
   "execution_count": 28,
   "metadata": {},
   "outputs": [],
   "source": [
    "spending  = df.groupby('gender').price.sum()"
   ]
  },
  {
   "cell_type": "code",
   "execution_count": 29,
   "metadata": {},
   "outputs": [
    {
     "data": {
      "text/plain": [
       "gender\n",
       "Unisex     31140.99\n",
       "men       117041.47\n",
       "women      50615.20\n",
       "Name: price, dtype: float64"
      ]
     },
     "execution_count": 29,
     "metadata": {},
     "output_type": "execute_result"
    }
   ],
   "source": [
    "spending"
   ]
  },
  {
   "cell_type": "code",
   "execution_count": 30,
   "metadata": {},
   "outputs": [
    {
     "data": {
      "image/png": "[encoded data removed]",
      "text/plain": [
       "<Figure size 1296x504 with 1 Axes>"
      ]
     },
     "metadata": {
      "needs_background": "light"
     },
     "output_type": "display_data"
    }
   ],
   "source": [
    "spending.plot(kind='bar', figsize=(18,7));\n",
    "plt.title('Amount spending per gender', fontsize=18);"
   ]
  },
  {
   "cell_type": "markdown",
   "metadata": {},
   "source": [
    "Men were spending money twice than women"
   ]
  },
  {
   "cell_type": "code",
   "execution_count": 31,
   "metadata": {},
   "outputs": [],
   "source": [
    "#above average purchase per category"
   ]
  },
  {
   "cell_type": "code",
   "execution_count": 32,
   "metadata": {},
   "outputs": [],
   "source": [
    "above_average_sale = df.groupby('category').perc_of_unit_sold.mean()"
   ]
  },
  {
   "cell_type": "code",
   "execution_count": 33,
   "metadata": {},
   "outputs": [
    {
     "data": {
      "text/plain": [
       "category\n",
       "Athletic Shoes           63.048780\n",
       "Casual & Dress Shoes     52.028571\n",
       "Eyewear                  48.307692\n",
       "Perfumes & Fragrances    73.793651\n",
       "Sportswear               51.142857\n",
       "Wallets                  43.942857\n",
       "Watches                  61.865772\n",
       "Name: perc_of_unit_sold, dtype: float64"
      ]
     },
     "execution_count": 33,
     "metadata": {},
     "output_type": "execute_result"
    }
   ],
   "source": [
    "above_average_sale"
   ]
  },
  {
   "cell_type": "code",
   "execution_count": 34,
   "metadata": {},
   "outputs": [
    {
     "data": {
      "image/png": "[encoded data removed]",
      "text/plain": [
       "<Figure size 1296x504 with 1 Axes>"
      ]
     },
     "metadata": {
      "needs_background": "light"
     },
     "output_type": "display_data"
    }
   ],
   "source": [
    "above_average_sale.plot(kind='bar', figsize=(18,7));\n",
    "plt.title('Average spending on Purchased per Category ', fontsize=18);"
   ]
  },
  {
   "cell_type": "code",
   "execution_count": 35,
   "metadata": {},
   "outputs": [],
   "source": [
    "X  = df.groupby(['shpping_rate', 'rating']).perc_of_unit_sold.mean()"
   ]
  },
  {
   "cell_type": "code",
   "execution_count": 36,
   "metadata": {},
   "outputs": [
    {
     "data": {
      "text/plain": [
       "shpping_rate                rating\n",
       "Eligible for FREE Shipping  40.0      33.000000\n",
       "                            56.0      52.000000\n",
       "                            60.0      37.750000\n",
       "                            66.0      76.000000\n",
       "                            70.0      57.000000\n",
       "                            74.0      39.000000\n",
       "                            76.0      71.000000\n",
       "                            78.0      70.200000\n",
       "                            80.0      62.454545\n",
       "                            82.0      72.285714\n",
       "                            84.0      68.500000\n",
       "                            86.0      73.437500\n",
       "                            88.0      74.529412\n",
       "                            90.0      66.380952\n",
       "                            92.0      82.333333\n",
       "                            94.0      59.800000\n",
       "                            96.0      60.000000\n",
       "                            98.0      69.000000\n",
       "                            100.0     62.166667\n",
       "FREE Shipping               20.0      53.500000\n",
       "                            40.0      33.000000\n",
       "                            50.0      42.000000\n",
       "                            60.0      19.666667\n",
       "                            62.0      57.000000\n",
       "                            66.0      43.500000\n",
       "                            68.0      84.333333\n",
       "                            70.0      16.000000\n",
       "                            72.0      98.000000\n",
       "                            74.0      54.000000\n",
       "                            76.0      42.666667\n",
       "                            78.0      33.750000\n",
       "                            80.0      51.333333\n",
       "                            82.0      85.857143\n",
       "                            84.0      55.714286\n",
       "                            86.0      65.352941\n",
       "                            88.0      65.823529\n",
       "                            90.0      53.739130\n",
       "                            92.0      63.142857\n",
       "                            94.0      59.400000\n",
       "                            96.0      61.166667\n",
       "                            98.0      75.000000\n",
       "                            100.0     60.666667\n",
       "Name: perc_of_unit_sold, dtype: float64"
      ]
     },
     "execution_count": 36,
     "metadata": {},
     "output_type": "execute_result"
    }
   ],
   "source": [
    "X"
   ]
  },
  {
   "cell_type": "code",
   "execution_count": 37,
   "metadata": {},
   "outputs": [
    {
     "data": {
      "image/png": "[encoded data removed]",
      "text/plain": [
       "<Figure size 1296x504 with 1 Axes>"
      ]
     },
     "metadata": {
      "needs_background": "light"
     },
     "output_type": "display_data"
    }
   ],
   "source": [
    "X.plot(kind='bar', figsize=(18,7), color='blue');\n",
    "plt.title('Average of purchases upon free shiping and customer review', fontsize=18);"
   ]
  },
  {
   "cell_type": "markdown",
   "metadata": {},
   "source": [
    "We can conclude that customer lean to purchased product labeled for free shipping and with good customer review or its eligible for free shiping  "
   ]
  },
  {
   "cell_type": "markdown",
   "metadata": {},
   "source": [
    "## Concluding "
   ]
  },
  {
   "cell_type": "markdown",
   "metadata": {},
   "source": [
    "it will be verey helpful if we have the customers ID linked to thier purchase so we can do more analysis in individual and improve the analysis to attract more customers to the website with their tempting goods "
   ]
  },
  {
   "cell_type": "markdown",
   "metadata": {},
   "source": [
    "# Kaggle Kernal"
   ]
  },
  {
   "cell_type": "markdown",
   "metadata": {},
   "source": [
    "https://www.kaggle.com/mohammedbuhliagah/analysis-on-customers-who-purchased-from-souq-ecom"
   ]
  }
 ],
 "metadata": {
  "kernelspec": {
   "display_name": "Python 3",
   "language": "python",
   "name": "python3"
  },
  "language_info": {
   "codemirror_mode": {
    "name": "ipython",
    "version": 3
   },
   "file_extension": ".py",
   "mimetype": "text/x-python",
   "name": "python",
   "nbconvert_exporter": "python",
   "pygments_lexer": "ipython3",
   "version": "3.7.4"
  }
 },
 "nbformat": 4,
 "nbformat_minor": 2
}
